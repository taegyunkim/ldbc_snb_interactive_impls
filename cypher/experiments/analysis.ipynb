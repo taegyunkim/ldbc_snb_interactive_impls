{
 "cells": [
  {
   "cell_type": "code",
   "execution_count": 43,
   "metadata": {},
   "outputs": [],
   "source": [
    "import json\n",
    "import os\n",
    "\n",
    "pwd = os.getcwd()\n",
    "queries_dir = pwd + \"/../queries/\"\n",
    "cypher_ext = '.cypher'"
   ]
  },
  {
   "cell_type": "code",
   "execution_count": 44,
   "metadata": {},
   "outputs": [],
   "source": [
    "class CypherQuery:\n",
    "\n",
    "    def __init__(self, filepath):\n",
    "        self.filename = os.path.basename(filepath)\n",
    "        with open(filepath) as f:\n",
    "            self.query = f.read()\n"
   ]
  },
  {
   "cell_type": "code",
   "execution_count": 45,
   "metadata": {},
   "outputs": [],
   "source": [
    "# First open the query files and store them.\n",
    "cypher_files = [\n",
    "    os.path.join(queries_dir, filename) \n",
    "    for filename in os.listdir(queries_dir) if filename.endswith(cypher_ext)\n",
    "]\n",
    "\n",
    "cypher_queries = [CypherQuery(filename) for filename in cypher_files]\n",
    "query_dict = {elem.query : elem.filename for elem in cypher_queries}\n"
   ]
  },
  {
   "cell_type": "code",
   "execution_count": 46,
   "metadata": {},
   "outputs": [
    {
     "name": "stdout",
     "output_type": "stream",
     "text": [
      "486 ms - interactive-complex-12.cypher\n",
      "474 ms - interactive-complex-11.cypher\n",
      "413 ms - interactive-complex-1.cypher\n",
      "318 ms - interactive-complex-14.cypher\n",
      "316 ms - interactive-complex-10.cypher\n",
      "291 ms - interactive-update-3.cypher\n",
      "147 ms - interactive-complex-8.cypher\n",
      "141 ms - interactive-complex-3.cypher\n",
      "119 ms - interactive-complex-4.cypher\n",
      "118 ms - interactive-complex-11.cypher\n",
      "113 ms - interactive-complex-2.cypher\n",
      "105 ms - interactive-complex-12.cypher\n",
      "99 ms - interactive-complex-1.cypher\n",
      "94 ms - interactive-complex-6.cypher\n",
      "93 ms - interactive-complex-7.cypher\n",
      "90 ms - interactive-short-2.cypher\n",
      "89 ms - interactive-short-7.cypher\n",
      "84 ms - interactive-complex-13.cypher\n",
      "84 ms - interactive-short-6.cypher\n",
      "68 ms - interactive-complex-5.cypher\n",
      "60 ms - interactive-complex-10.cypher\n",
      "52 ms - interactive-complex-14.cypher\n",
      "44 ms - interactive-update-3.cypher\n",
      "37 ms - interactive-short-1.cypher\n",
      "35 ms - interactive-short-3.cypher\n",
      "33 ms - interactive-short-5.cypher\n",
      "31 ms - interactive-short-4.cypher\n",
      "28 ms - interactive-complex-3.cypher\n",
      "28 ms - interactive-short-7.cypher\n",
      "26 ms - interactive-complex-4.cypher\n"
     ]
    }
   ],
   "source": [
    "logs = []\n",
    "with open('./05-country-index/query.log') as f:\n",
    "    for line in f:\n",
    "        entry = json.loads(line)\n",
    "        # filter out not benchmark queries. \n",
    "        if entry['query'] not in query_dict:\n",
    "            continue\n",
    "        logs.append(entry)\n",
    "\n",
    "# print(data[0])\n",
    "\n",
    "logs.sort(reverse=True, key=lambda x: x['elapsedTimeMs'])\n",
    "\n",
    "for i in range(0, 30):\n",
    "   elapsedTimeMs = logs[i]['elapsedTimeMs']\n",
    "   query = logs[i]['query']\n",
    "   filename = query_dict[query]\n",
    "\n",
    "   print(f'{elapsedTimeMs} ms - {filename}')"
   ]
  },
  {
   "cell_type": "code",
   "execution_count": 47,
   "metadata": {},
   "outputs": [
    {
     "name": "stdout",
     "output_type": "stream",
     "text": [
      "['interactive-short-5.cypher', 'interactive-short-2.cypher', 'interactive-short-3.cypher', 'interactive-complex-10.cypher', 'interactive-complex-12.cypher', 'interactive-complex-1.cypher', 'interactive-complex-11.cypher', 'interactive-short-7.cypher', 'interactive-complex-7.cypher', 'interactive-complex-9.cypher', 'interactive-update-1.cypher', 'interactive-complex-3.cypher', 'interactive-complex-8.cypher', 'interactive-short-6.cypher', 'interactive-short-1.cypher', 'interactive-complex-2.cypher']\n"
     ]
    }
   ],
   "source": [
    "# Now check which queries access the firstName property. \n",
    "first_name_queries = []\n",
    "for query, file_name in query_dict.items():\n",
    "    if 'firstName' in query: \n",
    "        first_name_queries.append(file_name)\n",
    "\n",
    "print(first_name_queries)"
   ]
  },
  {
   "cell_type": "code",
   "execution_count": 48,
   "metadata": {},
   "outputs": [
    {
     "name": "stdout",
     "output_type": "stream",
     "text": [
      "362\n",
      "478ms\t460ms\t470ms\thits: 246\t\tfaults: 1\taffected: False\tinteractive-complex-11.cypher\n",
      "475ms\t214ms\t469ms\thits: 279377\t\tfaults: 17501\taffected: True\tinteractive-complex-12.cypher\n",
      "419ms\t397ms\t416ms\thits: 246\t\tfaults: 0\taffected: True\tinteractive-complex-1.cypher\n",
      "324ms\t321ms\t321ms\thits: 164\t\tfaults: 0\taffected: True\tinteractive-complex-10.cypher\n",
      "309ms\t307ms\t308ms\thits: 1257\t\tfaults: 0\taffected: True\tinteractive-complex-14.cypher\n",
      "296ms\t286ms\t288ms\thits: 37\t\tfaults: 2\taffected: False\tinteractive-update-3.cypher\n",
      "142ms\t82ms\t141ms\thits: 7031\t\tfaults: 1377\taffected: False\tinteractive-complex-8.cypher\n",
      "121ms\t119ms\t119ms\thits: 130\t\tfaults: 1\taffected: True\tinteractive-complex-3.cypher\n",
      "113ms\t106ms\t112ms\thits: 143\t\tfaults: 0\taffected: True\tinteractive-complex-4.cypher\n",
      "112ms\t0ms\t112ms\thits: 295934\t\tfaults: 0\taffected: False\tinteractive-complex-12.cypher\n",
      "100ms\t97ms\t99ms\thits: 36\t\tfaults: 1\taffected: True\tinteractive-complex-13.cypher\n",
      "96ms\t89ms\t96ms\thits: 566\t\tfaults: 531\taffected: False\tinteractive-short-2.cypher\n",
      "94ms\t94ms\t91ms\thits: 0\t\tfaults: 0\taffected: True\tinteractive-complex-11.cypher\n",
      "93ms\t93ms\t92ms\thits: 0\t\tfaults: 0\taffected: True\tinteractive-complex-1.cypher\n",
      "92ms\t90ms\t91ms\thits: 100\t\tfaults: 0\taffected: True\tinteractive-complex-7.cypher\n",
      "86ms\t84ms\t86ms\thits: 173\t\tfaults: 0\taffected: True\tinteractive-short-7.cypher\n",
      "85ms\t84ms\t85ms\thits: 413\t\tfaults: 2\taffected: True\tinteractive-complex-6.cypher\n",
      "83ms\t82ms\t83ms\thits: 159\t\tfaults: 0\taffected: False\tinteractive-complex-2.cypher\n",
      "80ms\t78ms\t79ms\thits: 1007\t\tfaults: 6\taffected: True\tinteractive-short-6.cypher\n",
      "69ms\t67ms\t69ms\thits: 48\t\tfaults: 1\taffected: True\tinteractive-complex-5.cypher\n",
      "61ms\t61ms\t61ms\thits: 0\t\tfaults: 0\taffected: False\tinteractive-complex-10.cypher\n",
      "52ms\t52ms\t52ms\thits: 0\t\tfaults: 0\taffected: True\tinteractive-complex-14.cypher\n",
      "44ms\t44ms\t43ms\thits: 0\t\tfaults: 0\taffected: False\tinteractive-update-3.cypher\n",
      "43ms\t39ms\t43ms\thits: 189\t\tfaults: 65\taffected: False\tinteractive-short-3.cypher\n",
      "42ms\t41ms\t42ms\thits: 50\t\tfaults: 4\taffected: True\tinteractive-short-1.cypher\n",
      "34ms\t32ms\t33ms\thits: 15\t\tfaults: 3\taffected: True\tinteractive-short-4.cypher\n",
      "31ms\t30ms\t31ms\thits: 53\t\tfaults: 1\taffected: False\tinteractive-short-5.cypher\n",
      "29ms\t29ms\t29ms\thits: 0\t\tfaults: 0\taffected: True\tinteractive-complex-13.cypher\n",
      "28ms\t25ms\t27ms\thits: 563\t\tfaults: 47\taffected: False\tinteractive-short-7.cypher\n",
      "27ms\t27ms\t27ms\thits: 0\t\tfaults: 0\taffected: True\tinteractive-complex-3.cypher\n"
     ]
    }
   ],
   "source": [
    "logs = []\n",
    "with open('./06-message-index/query.log') as f:\n",
    "    for line in f:\n",
    "        entry = json.loads(line)\n",
    "        # filter out not benchmark queries. \n",
    "        if entry['query'] not in query_dict:\n",
    "            continue\n",
    "        logs.append(entry)\n",
    "\n",
    "# print(data[0])\n",
    "\n",
    "print(len(logs))\n",
    "\n",
    "logs.sort(reverse=True, key=lambda x: x['elapsedTimeMs'])\n",
    "\n",
    "for i in range(0, 30):\n",
    "   elapsedTimeMs = logs[i]['elapsedTimeMs']\n",
    "   planning = logs[i]['planning']\n",
    "   cpu = logs[i]['cpu']\n",
    "   pageHits = logs[i]['pageHits']\n",
    "   pageFaults = logs[i]['pageFaults']\n",
    "   affected = True if filename in first_name_queries else False\n",
    "   \n",
    "   query = logs[i]['query']\n",
    "   filename = query_dict[query]\n",
    "\n",
    "   print(f'{elapsedTimeMs}ms\\t{planning}ms\\t{cpu}ms\\thits: {pageHits}\\t\\tfaults: {pageFaults}\\taffected: {affected}\\t{filename}')"
   ]
  }
 ],
 "metadata": {
  "interpreter": {
   "hash": "916dbcbb3f70747c44a77c7bcd40155683ae19c65e1c03b4aa3499c5328201f1"
  },
  "kernelspec": {
   "display_name": "Python 3.10.4 64-bit",
   "language": "python",
   "name": "python3"
  },
  "language_info": {
   "codemirror_mode": {
    "name": "ipython",
    "version": 3
   },
   "file_extension": ".py",
   "mimetype": "text/x-python",
   "name": "python",
   "nbconvert_exporter": "python",
   "pygments_lexer": "ipython3",
   "version": "3.10.4"
  },
  "orig_nbformat": 4
 },
 "nbformat": 4,
 "nbformat_minor": 2
}
