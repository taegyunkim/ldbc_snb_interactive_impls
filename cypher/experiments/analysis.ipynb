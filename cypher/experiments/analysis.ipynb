{
 "cells": [
  {
   "cell_type": "code",
   "execution_count": 50,
   "metadata": {},
   "outputs": [],
   "source": [
    "import json\n",
    "import os\n",
    "\n",
    "pwd = os.getcwd()\n",
    "queries_dir = pwd + \"/../queries/\"\n",
    "cypher_ext = '.cypher'"
   ]
  },
  {
   "cell_type": "code",
   "execution_count": 51,
   "metadata": {},
   "outputs": [],
   "source": [
    "class CypherQuery:\n",
    "\n",
    "    def __init__(self, filepath):\n",
    "        self.filename = os.path.basename(filepath)\n",
    "        with open(filepath) as f:\n",
    "            self.query = f.read()\n"
   ]
  },
  {
   "cell_type": "code",
   "execution_count": 52,
   "metadata": {},
   "outputs": [],
   "source": [
    "# First open the query files and store them.\n",
    "cypher_files = [\n",
    "    os.path.join(queries_dir, filename) \n",
    "    for filename in os.listdir(queries_dir) if filename.endswith(cypher_ext)\n",
    "]\n",
    "\n",
    "cypher_queries = [CypherQuery(filename) for filename in cypher_files]\n",
    "query_dict = {elem.query : elem.filename for elem in cypher_queries}\n"
   ]
  },
  {
   "cell_type": "code",
   "execution_count": 53,
   "metadata": {},
   "outputs": [
    {
     "name": "stdout",
     "output_type": "stream",
     "text": [
      "486 ms - interactive-complex-12.cypher\n",
      "474 ms - interactive-complex-11.cypher\n",
      "413 ms - interactive-complex-1.cypher\n",
      "318 ms - interactive-complex-14.cypher\n",
      "316 ms - interactive-complex-10.cypher\n",
      "291 ms - interactive-update-3.cypher\n",
      "147 ms - interactive-complex-8.cypher\n",
      "141 ms - interactive-complex-3.cypher\n",
      "119 ms - interactive-complex-4.cypher\n",
      "118 ms - interactive-complex-11.cypher\n",
      "113 ms - interactive-complex-2.cypher\n",
      "105 ms - interactive-complex-12.cypher\n",
      "99 ms - interactive-complex-1.cypher\n",
      "94 ms - interactive-complex-6.cypher\n",
      "93 ms - interactive-complex-7.cypher\n",
      "90 ms - interactive-short-2.cypher\n",
      "89 ms - interactive-short-7.cypher\n",
      "84 ms - interactive-complex-13.cypher\n",
      "84 ms - interactive-short-6.cypher\n",
      "68 ms - interactive-complex-5.cypher\n",
      "60 ms - interactive-complex-10.cypher\n",
      "52 ms - interactive-complex-14.cypher\n",
      "44 ms - interactive-update-3.cypher\n",
      "37 ms - interactive-short-1.cypher\n",
      "35 ms - interactive-short-3.cypher\n",
      "33 ms - interactive-short-5.cypher\n",
      "31 ms - interactive-short-4.cypher\n",
      "28 ms - interactive-complex-3.cypher\n",
      "28 ms - interactive-short-7.cypher\n",
      "26 ms - interactive-complex-4.cypher\n"
     ]
    }
   ],
   "source": [
    "logs = []\n",
    "with open('./05-country-index/query.log') as f:\n",
    "    for line in f:\n",
    "        entry = json.loads(line)\n",
    "        # filter out not benchmark queries. \n",
    "        if entry['query'] not in query_dict:\n",
    "            continue\n",
    "        logs.append(entry)\n",
    "\n",
    "# print(data[0])\n",
    "\n",
    "logs.sort(reverse=True, key=lambda x: x['elapsedTimeMs'])\n",
    "\n",
    "for i in range(0, 30):\n",
    "   elapsedTimeMs = logs[i]['elapsedTimeMs']\n",
    "   query = logs[i]['query']\n",
    "   filename = query_dict[query]\n",
    "\n",
    "   print(f'{elapsedTimeMs} ms - {filename}')"
   ]
  },
  {
   "cell_type": "code",
   "execution_count": 55,
   "metadata": {},
   "outputs": [
    {
     "name": "stdout",
     "output_type": "stream",
     "text": [
      "362\n",
      "478 ms - interactive-complex-11.cypher\n",
      "475 ms - interactive-complex-12.cypher\n",
      "419 ms - interactive-complex-1.cypher\n",
      "324 ms - interactive-complex-10.cypher\n",
      "309 ms - interactive-complex-14.cypher\n",
      "296 ms - interactive-update-3.cypher\n",
      "142 ms - interactive-complex-8.cypher\n",
      "121 ms - interactive-complex-3.cypher\n",
      "113 ms - interactive-complex-4.cypher\n",
      "112 ms - interactive-complex-12.cypher\n",
      "100 ms - interactive-complex-13.cypher\n",
      "96 ms - interactive-short-2.cypher\n",
      "94 ms - interactive-complex-11.cypher\n",
      "93 ms - interactive-complex-1.cypher\n",
      "92 ms - interactive-complex-7.cypher\n",
      "86 ms - interactive-short-7.cypher\n",
      "85 ms - interactive-complex-6.cypher\n",
      "83 ms - interactive-complex-2.cypher\n",
      "80 ms - interactive-short-6.cypher\n",
      "69 ms - interactive-complex-5.cypher\n",
      "61 ms - interactive-complex-10.cypher\n",
      "52 ms - interactive-complex-14.cypher\n",
      "44 ms - interactive-update-3.cypher\n",
      "43 ms - interactive-short-3.cypher\n",
      "42 ms - interactive-short-1.cypher\n",
      "34 ms - interactive-short-4.cypher\n",
      "31 ms - interactive-short-5.cypher\n",
      "29 ms - interactive-complex-13.cypher\n",
      "28 ms - interactive-short-7.cypher\n",
      "27 ms - interactive-complex-3.cypher\n"
     ]
    }
   ],
   "source": [
    "logs = []\n",
    "with open('./06-message-index/query.log') as f:\n",
    "    for line in f:\n",
    "        entry = json.loads(line)\n",
    "        # filter out not benchmark queries. \n",
    "        if entry['query'] not in query_dict:\n",
    "            continue\n",
    "        logs.append(entry)\n",
    "\n",
    "# print(data[0])\n",
    "\n",
    "print(len(logs))\n",
    "\n",
    "logs.sort(reverse=True, key=lambda x: x['elapsedTimeMs'])\n",
    "\n",
    "for i in range(0, 30):\n",
    "   elapsedTimeMs = logs[i]['elapsedTimeMs']\n",
    "   query = logs[i]['query']\n",
    "   filename = query_dict[query]\n",
    "\n",
    "   print(f'{elapsedTimeMs} ms - {filename}')"
   ]
  }
 ],
 "metadata": {
  "interpreter": {
   "hash": "916dbcbb3f70747c44a77c7bcd40155683ae19c65e1c03b4aa3499c5328201f1"
  },
  "kernelspec": {
   "display_name": "Python 3.10.4 64-bit",
   "language": "python",
   "name": "python3"
  },
  "language_info": {
   "codemirror_mode": {
    "name": "ipython",
    "version": 3
   },
   "file_extension": ".py",
   "mimetype": "text/x-python",
   "name": "python",
   "nbconvert_exporter": "python",
   "pygments_lexer": "ipython3",
   "version": "3.10.4"
  },
  "orig_nbformat": 4
 },
 "nbformat": 4,
 "nbformat_minor": 2
}
